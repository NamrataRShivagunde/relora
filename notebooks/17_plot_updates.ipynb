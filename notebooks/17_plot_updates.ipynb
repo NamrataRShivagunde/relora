{
 "cells": [
  {
   "cell_type": "code",
   "execution_count": 1,
   "metadata": {},
   "outputs": [
    {
     "name": "stderr",
     "output_type": "stream",
     "text": [
      "/home/nammu/miniconda3/envs/baby/lib/python3.7/site-packages/tqdm-4.65.0-py3.7.egg/tqdm/auto.py:21: TqdmWarning: IProgress not found. Please update jupyter and ipywidgets. See https://ipywidgets.readthedocs.io/en/stable/user_install.html\n",
      "  from .autonotebook import tqdm as notebook_tqdm\n"
     ]
    },
    {
     "ename": "ModuleNotFoundError",
     "evalue": "No module named 'matplotlib'",
     "output_type": "error",
     "traceback": [
      "\u001b[0;31m---------------------------------------------------------------------------\u001b[0m",
      "\u001b[0;31mModuleNotFoundError\u001b[0m                       Traceback (most recent call last)",
      "\u001b[0;32m/tmp/ipykernel_9796/2360646338.py\u001b[0m in \u001b[0;36m<module>\u001b[0;34m\u001b[0m\n\u001b[1;32m      1\u001b[0m \u001b[0;32mimport\u001b[0m \u001b[0mtorch\u001b[0m\u001b[0;34m\u001b[0m\u001b[0;34m\u001b[0m\u001b[0m\n\u001b[1;32m      2\u001b[0m \u001b[0;32mfrom\u001b[0m \u001b[0mtransformers\u001b[0m \u001b[0;32mimport\u001b[0m \u001b[0mGPT2Model\u001b[0m\u001b[0;34m\u001b[0m\u001b[0;34m\u001b[0m\u001b[0m\n\u001b[0;32m----> 3\u001b[0;31m \u001b[0;32mimport\u001b[0m \u001b[0mmatplotlib\u001b[0m\u001b[0;34m.\u001b[0m\u001b[0mpyplot\u001b[0m \u001b[0;32mas\u001b[0m \u001b[0mplt\u001b[0m\u001b[0;34m\u001b[0m\u001b[0;34m\u001b[0m\u001b[0m\n\u001b[0m\u001b[1;32m      4\u001b[0m \u001b[0;34m\u001b[0m\u001b[0m\n\u001b[1;32m      5\u001b[0m \u001b[0;31m# Load the pre-trained GPT-2 model\u001b[0m\u001b[0;34m\u001b[0m\u001b[0;34m\u001b[0m\u001b[0;34m\u001b[0m\u001b[0m\n",
      "\u001b[0;31mModuleNotFoundError\u001b[0m: No module named 'matplotlib'"
     ]
    }
   ],
   "source": [
    "import torch\n",
    "from transformers import GPT2Model\n",
    "import matplotlib.pyplot as plt\n",
    "\n",
    "# Load the pre-trained GPT-2 model\n",
    "model = GPT2Model.from_pretrained(\"facebook/opus-mt-en-ro\")\n",
    "\n",
    "# Initialize lists to store the norms\n",
    "q_weight_norms = []\n",
    "\n",
    "# Iterate through the layers of the model\n",
    "for layer in model.transformer.h:\n",
    "    # Get the weight of the query (q) matrix for the current layer\n",
    "    q_matrix_weight = layer.attn.c_attn.weight\n",
    "\n",
    "    # Calculate the norm of the weight matrix and append it to the list\n",
    "    q_weight_norm = torch.norm(q_matrix_weight)\n",
    "    q_weight_norms.append(q_weight_norm.item())\n",
    "\n",
    "# Plotting the norms\n",
    "plt.figure(figsize=(10, 5))\n",
    "plt.plot(range(1, len(q_weight_norms) + 1), q_weight_norms, marker='o')\n",
    "plt.title(\"Norm of Query (q) Matrix Weights for Each Layer\")\n",
    "plt.xlabel(\"Layer\")\n",
    "plt.ylabel(\"Norm\")\n",
    "plt.xticks(range(1, len(q_weight_norms) + 1))\n",
    "plt.grid(True)\n",
    "plt.show()\n"
   ]
  }
 ],
 "metadata": {
  "kernelspec": {
   "display_name": "baby",
   "language": "python",
   "name": "python3"
  },
  "language_info": {
   "codemirror_mode": {
    "name": "ipython",
    "version": 3
   },
   "file_extension": ".py",
   "mimetype": "text/x-python",
   "name": "python",
   "nbconvert_exporter": "python",
   "pygments_lexer": "ipython3",
   "version": "3.7.16"
  }
 },
 "nbformat": 4,
 "nbformat_minor": 2
}
