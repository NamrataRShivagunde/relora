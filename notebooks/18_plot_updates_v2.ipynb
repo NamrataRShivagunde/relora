{
 "cells": [
  {
   "cell_type": "code",
   "execution_count": null,
   "metadata": {},
   "outputs": [],
   "source": [
    "FT_60M = AutoModelForCausalLM.from_pretrained(\"../checkpoints/different-bird-31/model_2000\")"
   ]
  },
  {
   "cell_type": "code",
   "execution_count": null,
   "metadata": {},
   "outputs": [],
   "source": [
    "import torch\n",
    "import os\n",
    "import matplotlib.pyplot as plt\n",
    "\n",
    "# Function to calculate the norm of weight differences for each layer\n",
    "def calculate_weight_norms(model):\n",
    "    weight_norms = []\n",
    "    prev_weights = None\n",
    "    for name, param in model.named_parameters():\n",
    "        if 'weight' in name:  # Check if parameter is a weight\n",
    "            if prev_weights is not None:\n",
    "                weight_diff_norm = torch.norm(prev_weights - param.data)\n",
    "                weight_norms.append(weight_diff_norm.item())\n",
    "            prev_weights = param.data\n",
    "    return weight_norms\n",
    "\n",
    "# Folder containing the model checkpoints\n",
    "checkpoint_folder = 'folder1'\n",
    "\n",
    "# List to store norms of weight differences for each layer\n",
    "all_weight_norms = []\n",
    "\n",
    "# Iterate through each checkpoint file in the folder\n",
    "for filename in os.listdir(checkpoint_folder):\n",
    "    if filename.endswith(\".pt\"):  # Check if file is a PyTorch checkpoint\n",
    "        checkpoint_path = os.path.join(checkpoint_folder, filename)\n",
    "        # Load the checkpoint\n",
    "        model_state_dict = torch.load(checkpoint_path, map_location=torch.device('cpu'))\n",
    "        # Create the model architecture (replace with your model's architecture)\n",
    "        model = YourModelClass()\n",
    "        # Load the model's state dict from the checkpoint\n",
    "        model.load_state_dict(model_state_dict)\n",
    "        # Calculate the norms of weight differences for each layer\n",
    "        weight_norms = calculate_weight_norms(model)\n",
    "        all_weight_norms.append(weight_norms)\n",
    "\n",
    "# Plotting the norms for each layer\n",
    "plt.figure(figsize=(10, 5))\n",
    "for i, norms in enumerate(all_weight_norms):\n",
    "    plt.plot(range(1, len(norms) + 1), norms, label=f\"Checkpoint {i+1}\")\n",
    "plt.title(\"Norm of Weight Differences for Each Layer\")\n",
    "plt.xlabel(\"Layer\")\n",
    "plt.ylabel(\"Norm\")\n",
    "plt.legend()\n",
    "plt.grid(True)\n",
    "plt.show()\n"
   ]
  }
 ],
 "metadata": {
  "language_info": {
   "name": "python"
  }
 },
 "nbformat": 4,
 "nbformat_minor": 2
}
